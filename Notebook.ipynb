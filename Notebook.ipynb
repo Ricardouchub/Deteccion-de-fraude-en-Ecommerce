{
 "cells": [
  {
   "cell_type": "markdown",
   "id": "8410fde5",
   "metadata": {},
   "source": [
    "## Detección de Fraude en Transacciones de E-commerce\n",
    "\n",
    "**Autor: Ricardo Urdaneta**\n",
    "\n",
    "Fecha: 4 de Agosto de 2025\n",
    "\n",
    "Dataset: [Payment Fraud - Empowering Financial Security (Kaggle)](https://www.kaggle.com/datasets/younusmohamed/payment-fraud-empowering-financial-security)\n",
    "\n",
    "---\n",
    "\n",
    "#### Resumen \n",
    "Este proyecto aborda el desarrollo de un sistema de machine learning para la detección de fraude en transacciones de e-commerce. Partiendo de un dataset, se realizó un ciclo completo de vida de un proyecto de data science, incluyendo limpieza de datos, análisis exploratorio, y la evaluación de múltiples modelos de clasificación. El resultado es un modelo XGBoost de alto rendimiento, capaz de identificar transacciones fraudulentas con una precisión y exhaustividad perfectas, validado rigurosamente para asegurar su robustez.\n",
    "\n",
    "#### Problema de Negocio\n",
    "El fraude en transacciones online representa una de las mayores amenazas para las empresas de e-commerce, generando pérdidas millonarias, erosionando la confianza del cliente y aumentando los costos operativos. El objetivo de este proyecto es mitigar este riesgo mediante la construcción de un modelo predictivo que pueda:\n",
    "\n",
    "* Identificar transacciones fraudulentas en tiempo real con alta precisión.\n",
    "\n",
    "* Minimizar los \"falsos positivos\" para no afectar la experiencia de compra de clientes legítimos.\n",
    "\n",
    "\n",
    "#### Fases del Proyecto\n",
    "El desarrollo se estructuró bajo las siguientes fases:\n",
    "\n",
    "* **1. Carga e Inspección de Datos:** Comprensión inicial de la estructura, tipos de datos y características del dataset.\n",
    "\n",
    "* **2. Limpieza y Preparación de Datos:** Proceso riguroso que incluyó la eliminación de duplicados y el uso de técnicas de imputación avanzadas (IterativeImputer) para manejar valores nulos sin perder información valiosa.\n",
    "\n",
    "* **3. Análisis Exploratorio de Datos (EDA):** Fase crítica donde se visualizaron los datos para descubrir patrones. El hallazgo clave fue la identificación de una correlación extremadamente fuerte entre las transacciones fraudulentas y su ocurrencia durante el fin de semana, lo cual se convirtió en la principal variable predictiva.\n",
    "\n",
    "* **4. Preprocesamiento y Escalado:** Transformación de las características categóricas a formato numérico (One-Hot Encoding) y escalado de las variables numéricas (StandardScaler) para preparar los datos para el modelado.\n",
    "\n",
    "* **5. Construcción y Evaluación de Modelos:** Se entrenaron y evaluaron tres modelos distintos (**Regresión Logística**, **Random Forest** y **XGBoost**), implementando estrategias específicas (`class_weight`, `SMOTE`, `scale_pos_weight`) para manejar el severo desbalance de clases presente en los datos.\n",
    "\n",
    "* **6. Validación Cruzada de Robustez:** Para garantizar la fiabilidad del modelo final, se aplicó una validación cruzada de 10 pliegues (`Stratified 10-Fold Cross-Validation`), confirmando que el rendimiento no fue producto del azar.\n",
    "\n",
    "#### Resultado Final\n",
    "El modelo XGBoost se consolidó como la solución superior, demostrando un rendimiento perfecto y consistente. La validación cruzada arrojó los siguientes resultados:\n",
    "\n",
    "**F1-Score Promedio: `1.0000`**\n",
    "\n",
    "**Desviación Estándar: `0.0000`**\n",
    "\n",
    "Esto indica que el modelo no solo es perfecto en su capacidad predictiva para este dataset, sino que también es extremadamente estable y robusto. El éxito se atribuye a la capacidad del algoritmo para capitalizar los patrones claros y fuertes descubiertos durante el análisis exploratorio, entregando una solución de alta confianza para el problema de negocio planteado."
   ]
  },
  {
   "cell_type": "markdown",
   "id": "a21d1534",
   "metadata": {},
   "source": [
    "### 1. Carga y Vistazo Inicial a los Datos\n",
    "Cargar el conjunto de datos payment_fraud.csv en un DataFrame de Pandas para poder empezar a analizarlo y manipularlo."
   ]
  },
  {
   "cell_type": "code",
   "execution_count": null,
   "id": "334be566",
   "metadata": {},
   "outputs": [],
   "source": [
    "\n",
    "# Importamos la librería pandas para manejo de datos.\n",
    "import pandas as pd\n",
    "import numpy as np\n",
    "\n",
    "# Importamos librerias para manejo de archivos y directorios.\n",
    "import joblib\n",
    "import os\n",
    "\n",
    "# Importamos librerías para visualización de datos.\n",
    "import seaborn as sns\n",
    "import matplotlib.pyplot as plt\n",
    "from matplotlib.ticker import PercentFormatter\n",
    "\n",
    "# Importamos herramientas de machine learning y preprocesamiento de datos de scikit-learn.\n",
    "from sklearn.experimental import enable_iterative_imputer\n",
    "from sklearn.impute import IterativeImputer\n",
    "from sklearn.linear_model import BayesianRidge\n",
    "from sklearn.model_selection import train_test_split\n",
    "from sklearn.preprocessing import StandardScaler\n",
    "from sklearn.linear_model import LogisticRegression\n",
    "from sklearn.ensemble import RandomForestClassifier\n",
    "from sklearn.metrics import classification_report, confusion_matrix, ConfusionMatrixDisplay\n",
    "\n",
    "# Importamos herramientas de validación cruzada.\n",
    "from sklearn.model_selection import StratifiedKFold, cross_val_score\n",
    "\n",
    "# Importamos XGBoost para el modelo de clasificación.\n",
    "from xgboost import XGBClassifier\n",
    "\n",
    "# Importamos librerías para manejar el desbalance.\n",
    "from imblearn.pipeline import Pipeline as ImbPipeline\n",
    "from imblearn.over_sampling import SMOTE\n",
    "\n",
    "# Importamos warnings para manejar las advertencias de forma más controlada.\n",
    "import warnings\n",
    "warnings.filterwarnings(\"ignore\")\n"
   ]
  },
  {
   "cell_type": "code",
   "execution_count": null,
   "id": "527c3e69",
   "metadata": {},
   "outputs": [
    {
     "data": {
      "text/html": [
       "<div>\n",
       "<style scoped>\n",
       "    .dataframe tbody tr th:only-of-type {\n",
       "        vertical-align: middle;\n",
       "    }\n",
       "\n",
       "    .dataframe tbody tr th {\n",
       "        vertical-align: top;\n",
       "    }\n",
       "\n",
       "    .dataframe thead th {\n",
       "        text-align: right;\n",
       "    }\n",
       "</style>\n",
       "<table border=\"1\" class=\"dataframe\">\n",
       "  <thead>\n",
       "    <tr style=\"text-align: right;\">\n",
       "      <th></th>\n",
       "      <th>accountAgeDays</th>\n",
       "      <th>numItems</th>\n",
       "      <th>localTime</th>\n",
       "      <th>paymentMethod</th>\n",
       "      <th>paymentMethodAgeDays</th>\n",
       "      <th>Category</th>\n",
       "      <th>isWeekend</th>\n",
       "      <th>label</th>\n",
       "    </tr>\n",
       "  </thead>\n",
       "  <tbody>\n",
       "    <tr>\n",
       "      <th>0</th>\n",
       "      <td>29</td>\n",
       "      <td>1</td>\n",
       "      <td>4.745402</td>\n",
       "      <td>paypal</td>\n",
       "      <td>28.204861</td>\n",
       "      <td>shopping</td>\n",
       "      <td>0.0</td>\n",
       "      <td>0</td>\n",
       "    </tr>\n",
       "    <tr>\n",
       "      <th>1</th>\n",
       "      <td>725</td>\n",
       "      <td>1</td>\n",
       "      <td>4.742303</td>\n",
       "      <td>storecredit</td>\n",
       "      <td>0.000000</td>\n",
       "      <td>electronics</td>\n",
       "      <td>0.0</td>\n",
       "      <td>0</td>\n",
       "    </tr>\n",
       "    <tr>\n",
       "      <th>2</th>\n",
       "      <td>845</td>\n",
       "      <td>1</td>\n",
       "      <td>4.921318</td>\n",
       "      <td>creditcard</td>\n",
       "      <td>0.000000</td>\n",
       "      <td>food</td>\n",
       "      <td>1.0</td>\n",
       "      <td>0</td>\n",
       "    </tr>\n",
       "    <tr>\n",
       "      <th>3</th>\n",
       "      <td>503</td>\n",
       "      <td>1</td>\n",
       "      <td>4.886641</td>\n",
       "      <td>creditcard</td>\n",
       "      <td>0.000000</td>\n",
       "      <td>electronics</td>\n",
       "      <td>1.0</td>\n",
       "      <td>0</td>\n",
       "    </tr>\n",
       "    <tr>\n",
       "      <th>4</th>\n",
       "      <td>2000</td>\n",
       "      <td>1</td>\n",
       "      <td>5.040929</td>\n",
       "      <td>creditcard</td>\n",
       "      <td>0.000000</td>\n",
       "      <td>shopping</td>\n",
       "      <td>0.0</td>\n",
       "      <td>0</td>\n",
       "    </tr>\n",
       "  </tbody>\n",
       "</table>\n",
       "</div>"
      ],
      "text/plain": [
       "   accountAgeDays  numItems  localTime paymentMethod  paymentMethodAgeDays  \\\n",
       "0              29         1   4.745402        paypal             28.204861   \n",
       "1             725         1   4.742303   storecredit              0.000000   \n",
       "2             845         1   4.921318    creditcard              0.000000   \n",
       "3             503         1   4.886641    creditcard              0.000000   \n",
       "4            2000         1   5.040929    creditcard              0.000000   \n",
       "\n",
       "      Category  isWeekend  label  \n",
       "0     shopping        0.0      0  \n",
       "1  electronics        0.0      0  \n",
       "2         food        1.0      0  \n",
       "3  electronics        1.0      0  \n",
       "4     shopping        0.0      0  "
      ]
     },
     "execution_count": 24,
     "metadata": {},
     "output_type": "execute_result"
    }
   ],
   "source": [
    "# Definimos la ruta donde se encuentra nuestro archivo CSV.\n",
    "file_path = 'data/payment_fraud.csv'\n",
    "\n",
    "# Cargamos el archivo CSV utilizando pandas.\n",
    "df = pd.read_csv(file_path)\n",
    "\n",
    "# Verificamos\n",
    "df.head()"
   ]
  },
  {
   "cell_type": "markdown",
   "id": "b61680dd",
   "metadata": {},
   "source": [
    "#### Inspección Estructural y Calidad de Datos\n",
    "Este bloque de código nos dará una visión rápida de las dimensiones del dataset, los tipos de datos, la presencia de nulos, duplicados, y la distribución de la variable objetivo."
   ]
  },
  {
   "cell_type": "code",
   "execution_count": 25,
   "id": "19958a08",
   "metadata": {},
   "outputs": [
    {
     "data": {
      "text/plain": [
       "(39221, 8)"
      ]
     },
     "execution_count": 25,
     "metadata": {},
     "output_type": "execute_result"
    }
   ],
   "source": [
    "# Dimensiones del dataset (filas, columnas)\n",
    "df.shape"
   ]
  },
  {
   "cell_type": "code",
   "execution_count": 26,
   "id": "3e5c048f",
   "metadata": {},
   "outputs": [
    {
     "name": "stdout",
     "output_type": "stream",
     "text": [
      "<class 'pandas.core.frame.DataFrame'>\n",
      "RangeIndex: 39221 entries, 0 to 39220\n",
      "Data columns (total 8 columns):\n",
      " #   Column                Non-Null Count  Dtype  \n",
      "---  ------                --------------  -----  \n",
      " 0   accountAgeDays        39221 non-null  int64  \n",
      " 1   numItems              39221 non-null  int64  \n",
      " 2   localTime             39221 non-null  float64\n",
      " 3   paymentMethod         39221 non-null  object \n",
      " 4   paymentMethodAgeDays  39221 non-null  float64\n",
      " 5   Category              39126 non-null  object \n",
      " 6   isWeekend             38661 non-null  float64\n",
      " 7   label                 39221 non-null  int64  \n",
      "dtypes: float64(3), int64(3), object(2)\n",
      "memory usage: 2.4+ MB\n"
     ]
    }
   ],
   "source": [
    "# Tipos de datos, uso de memoria y valores no nulos.\n",
    "df.info()"
   ]
  },
  {
   "cell_type": "code",
   "execution_count": 27,
   "id": "037e5d79",
   "metadata": {},
   "outputs": [
    {
     "name": "stdout",
     "output_type": "stream",
     "text": [
      "\n",
      "Número de filas completamente duplicadas: 3033\n"
     ]
    },
    {
     "data": {
      "text/plain": [
       "np.int64(3033)"
      ]
     },
     "execution_count": 27,
     "metadata": {},
     "output_type": "execute_result"
    }
   ],
   "source": [
    "#  Verificación de filas duplicadas.\n",
    "print(f\"\\nNúmero de filas completamente duplicadas: {df.duplicated().sum()}\")\n",
    "df.duplicated().sum()"
   ]
  },
  {
   "cell_type": "code",
   "execution_count": 28,
   "id": "67224833",
   "metadata": {},
   "outputs": [
    {
     "data": {
      "text/html": [
       "<div>\n",
       "<style scoped>\n",
       "    .dataframe tbody tr th:only-of-type {\n",
       "        vertical-align: middle;\n",
       "    }\n",
       "\n",
       "    .dataframe tbody tr th {\n",
       "        vertical-align: top;\n",
       "    }\n",
       "\n",
       "    .dataframe thead th {\n",
       "        text-align: right;\n",
       "    }\n",
       "</style>\n",
       "<table border=\"1\" class=\"dataframe\">\n",
       "  <thead>\n",
       "    <tr style=\"text-align: right;\">\n",
       "      <th></th>\n",
       "      <th>accountAgeDays</th>\n",
       "      <th>numItems</th>\n",
       "      <th>localTime</th>\n",
       "      <th>paymentMethodAgeDays</th>\n",
       "      <th>isWeekend</th>\n",
       "      <th>label</th>\n",
       "    </tr>\n",
       "  </thead>\n",
       "  <tbody>\n",
       "    <tr>\n",
       "      <th>count</th>\n",
       "      <td>39221.000000</td>\n",
       "      <td>39221.000000</td>\n",
       "      <td>39221.000000</td>\n",
       "      <td>39221.000000</td>\n",
       "      <td>38661.000000</td>\n",
       "      <td>39221.000000</td>\n",
       "    </tr>\n",
       "    <tr>\n",
       "      <th>mean</th>\n",
       "      <td>857.563984</td>\n",
       "      <td>1.084751</td>\n",
       "      <td>4.748232</td>\n",
       "      <td>122.641326</td>\n",
       "      <td>0.499547</td>\n",
       "      <td>0.014278</td>\n",
       "    </tr>\n",
       "    <tr>\n",
       "      <th>std</th>\n",
       "      <td>804.788212</td>\n",
       "      <td>0.566899</td>\n",
       "      <td>0.389360</td>\n",
       "      <td>283.569177</td>\n",
       "      <td>0.500006</td>\n",
       "      <td>0.118636</td>\n",
       "    </tr>\n",
       "    <tr>\n",
       "      <th>min</th>\n",
       "      <td>1.000000</td>\n",
       "      <td>1.000000</td>\n",
       "      <td>0.421214</td>\n",
       "      <td>0.000000</td>\n",
       "      <td>0.000000</td>\n",
       "      <td>0.000000</td>\n",
       "    </tr>\n",
       "    <tr>\n",
       "      <th>25%</th>\n",
       "      <td>72.000000</td>\n",
       "      <td>1.000000</td>\n",
       "      <td>4.742303</td>\n",
       "      <td>0.000000</td>\n",
       "      <td>0.000000</td>\n",
       "      <td>0.000000</td>\n",
       "    </tr>\n",
       "    <tr>\n",
       "      <th>50%</th>\n",
       "      <td>603.000000</td>\n",
       "      <td>1.000000</td>\n",
       "      <td>4.886641</td>\n",
       "      <td>0.012500</td>\n",
       "      <td>0.000000</td>\n",
       "      <td>0.000000</td>\n",
       "    </tr>\n",
       "    <tr>\n",
       "      <th>75%</th>\n",
       "      <td>1804.000000</td>\n",
       "      <td>1.000000</td>\n",
       "      <td>4.962055</td>\n",
       "      <td>87.510417</td>\n",
       "      <td>1.000000</td>\n",
       "      <td>0.000000</td>\n",
       "    </tr>\n",
       "    <tr>\n",
       "      <th>max</th>\n",
       "      <td>2000.000000</td>\n",
       "      <td>29.000000</td>\n",
       "      <td>5.040929</td>\n",
       "      <td>1999.580556</td>\n",
       "      <td>1.000000</td>\n",
       "      <td>1.000000</td>\n",
       "    </tr>\n",
       "  </tbody>\n",
       "</table>\n",
       "</div>"
      ],
      "text/plain": [
       "       accountAgeDays      numItems     localTime  paymentMethodAgeDays  \\\n",
       "count    39221.000000  39221.000000  39221.000000          39221.000000   \n",
       "mean       857.563984      1.084751      4.748232            122.641326   \n",
       "std        804.788212      0.566899      0.389360            283.569177   \n",
       "min          1.000000      1.000000      0.421214              0.000000   \n",
       "25%         72.000000      1.000000      4.742303              0.000000   \n",
       "50%        603.000000      1.000000      4.886641              0.012500   \n",
       "75%       1804.000000      1.000000      4.962055             87.510417   \n",
       "max       2000.000000     29.000000      5.040929           1999.580556   \n",
       "\n",
       "          isWeekend         label  \n",
       "count  38661.000000  39221.000000  \n",
       "mean       0.499547      0.014278  \n",
       "std        0.500006      0.118636  \n",
       "min        0.000000      0.000000  \n",
       "25%        0.000000      0.000000  \n",
       "50%        0.000000      0.000000  \n",
       "75%        1.000000      0.000000  \n",
       "max        1.000000      1.000000  "
      ]
     },
     "execution_count": 28,
     "metadata": {},
     "output_type": "execute_result"
    }
   ],
   "source": [
    "# Estadísticas descriptivas para las columnas numéricas.\n",
    "df.describe()"
   ]
  },
  {
   "cell_type": "code",
   "execution_count": null,
   "id": "d28397c1",
   "metadata": {},
   "outputs": [
    {
     "data": {
      "text/plain": [
       "label\n",
       "0    98.57%\n",
       "1     1.43%\n",
       "Name: proportion, dtype: object"
      ]
     },
     "execution_count": 29,
     "metadata": {},
     "output_type": "execute_result"
    }
   ],
   "source": [
    "# Distribución de la variable objetivo 'label' 0 = legítimo, 1 = potencial fraude \n",
    "df['label'].value_counts(normalize=True).map('{:.2%}'.format)"
   ]
  },
  {
   "cell_type": "markdown",
   "id": "3c057ebf",
   "metadata": {},
   "source": [
    "### 2. Limpieza de Datos\n",
    "Preparar el dataset para el análisis, eliminando datos redundantes y manejando las ausencias para asegurar la calidad del modelo."
   ]
  },
  {
   "cell_type": "code",
   "execution_count": null,
   "id": "5134055b",
   "metadata": {},
   "outputs": [
    {
     "name": "stdout",
     "output_type": "stream",
     "text": [
      "Se eliminaron 3033 filas duplicadas.\n",
      "Nuevas dimensiones del DataFrame: (36188, 8)\n"
     ]
    }
   ],
   "source": [
    "# Eliminar filas duplicadas\n",
    "df.drop_duplicates(inplace=True)\n"
   ]
  },
  {
   "cell_type": "code",
   "execution_count": null,
   "id": "3c85090a",
   "metadata": {},
   "outputs": [
    {
     "name": "stdout",
     "output_type": "stream",
     "text": [
      "\n",
      "Imputando columnas categóricas con la moda: ['Category']\n",
      "Imputando columnas numéricas con IterativeImputer: ['isWeekend']\n",
      "\n",
      "Total de valores nulos restantes: 0\n",
      "Dimensiones finales del DataFrame limpio: (36188, 8)\n",
      "\n",
      "Distribución de 'label' DESPUÉS de la limpieza:\n",
      "label\n",
      "0    35792\n",
      "1      396\n",
      "Name: count, dtype: int64\n"
     ]
    }
   ],
   "source": [
    "# Imputación Estratégica\n",
    "# Identificamos columnas con nulos y las separamos por tipo de dato.\n",
    "cols_with_na = df.columns[df.isnull().any()].tolist()\n",
    "numeric_cols_na = df[cols_with_na].select_dtypes(include=['number']).columns.tolist()\n",
    "categorical_cols_na = df[cols_with_na].select_dtypes(include=['object', 'category']).columns.tolist()\n",
    "\n",
    "# Imputamos columnas categóricas con la moda\n",
    "print(f\"\\nImputando columnas categóricas con la moda: {categorical_cols_na}\")\n",
    "for col in categorical_cols_na:\n",
    "    mode_value = df[col].mode()[0]\n",
    "    df[col].fillna(mode_value, inplace=True)\n",
    "\n",
    "# Imputamos columnas numéricas con IterativeImputer\n",
    "print(f\"Imputando columnas numéricas con IterativeImputer: {numeric_cols_na}\")\n",
    "if numeric_cols_na:\n",
    "    imputer = IterativeImputer(estimator=BayesianRidge(), max_iter=10, random_state=42)\n",
    "    # Imputamos solo el subconjunto numérico para no afectar las otras columnas\n",
    "    df[numeric_cols_na] = imputer.fit_transform(df[numeric_cols_na])\n",
    "\n",
    "# Verificación\n",
    "print(f\"\\nTotal de valores nulos restantes: {df.isnull().sum().sum()}\")\n",
    "print(f\"Dimensiones finales del DataFrame limpio: {df.shape}\")\n",
    "print(\"\\nDistribución de 'label' DESPUÉS de la limpieza:\")\n",
    "print(df['label'].value_counts())"
   ]
  },
  {
   "cell_type": "code",
   "execution_count": null,
   "id": "0dbba8bd",
   "metadata": {},
   "outputs": [
    {
     "name": "stdout",
     "output_type": "stream",
     "text": [
      "\n",
      "Verificación final de nulos:\n",
      "0\n",
      "Dimensiones finales del DataFrame limpio: (36188, 8)\n"
     ]
    }
   ],
   "source": [
    "# Verificación final despues de la limpieza.\n",
    "print(\"\\nVerificación final de nulos:\")\n",
    "print(df.isnull().sum().sum()) # .sum() dos veces para obtener el total general.\n",
    "print(f\"Dimensiones finales del DataFrame limpio: {df.shape}\")\n"
   ]
  },
  {
   "cell_type": "markdown",
   "id": "4a714c4d",
   "metadata": {},
   "source": [
    "### 3. Análisis Exploratorio de Datos (EDA)\n",
    "\n",
    "Visualizar el porcentaje de fraude dentro de cada categoría para identificar qué grupos tienen un riesgo relativo más alto, ignorando el efecto del desbalance de clases."
   ]
  },
  {
   "cell_type": "code",
   "execution_count": null,
   "id": "6c8b4831",
   "metadata": {},
   "outputs": [
    {
     "data": {
      "image/png": "[encoded data removed]",
      "text/plain": [
       "<Figure size 1500x700 with 3 Axes>"
      ]
     },
     "metadata": {},
     "output_type": "display_data"
    }
   ],
   "source": [
    "# Configuración de estilo para los gráficos\n",
    "sns.set_style(\"whitegrid\")\n",
    "fraud_color = \"#e74c3c\"\n",
    "\n",
    "# Creamos una figura para los subplots \n",
    "fig, axes = plt.subplots(1, 3, figsize=(15, 7))\n",
    "fig.suptitle('Análisis de Proporción de Fraude por Variables Categóricas', fontsize=16)\n",
    "\n",
    "# Gráfico 1: Proporción de Fraude por Método de Pago \n",
    "prop_payment = df.groupby('paymentMethod')['label'].value_counts(normalize=True).unstack().fillna(0)\n",
    "prop_payment = prop_payment.reindex(columns=[0, 1], fill_value=0)\n",
    "prop_payment = prop_payment.sort_values(by=1, ascending=False)\n",
    "\n",
    "sns.barplot(ax=axes[0], x=prop_payment.index, y=prop_payment[1], color=fraud_color)\n",
    "axes[0].set_title('Proporción de Fraude por Método de Pago')\n",
    "axes[0].set_ylabel('Proporción de Fraude')\n",
    "axes[0].yaxis.set_major_formatter(PercentFormatter(1.0))\n",
    "\n",
    "\n",
    "# Gráfico 2: Proporción de Fraude por Categoría de Producto\n",
    "prop_category = df.groupby('Category')['label'].value_counts(normalize=True).unstack().fillna(0)\n",
    "prop_category = prop_category.reindex(columns=[0, 1], fill_value=0)\n",
    "prop_category = prop_category.sort_values(by=1, ascending=False)\n",
    "\n",
    "sns.barplot(ax=axes[1], x=prop_category.index, y=prop_category[1], color=fraud_color)\n",
    "axes[1].set_title('Proporción de Fraude por Categoría de Producto')\n",
    "axes[1].set_ylabel('')\n",
    "axes[1].yaxis.set_major_formatter(PercentFormatter(1.0))\n",
    "\n",
    "\n",
    "# Gráfico 3: Proporción de Fraude en Fin de Semana\n",
    "prop_weekend = df.groupby('isWeekend')['label'].value_counts(normalize=True).unstack().fillna(0)\n",
    "prop_weekend = prop_weekend.reindex(columns=[0, 1], fill_value=0)\n",
    "\n",
    "sns.barplot(ax=axes[2], x=prop_weekend.index, y=prop_weekend[1], color=fraud_color)\n",
    "axes[2].set_title('Proporción de Fraude en Fin de Semana')\n",
    "axes[2].set_ylabel('')\n",
    "axes[2].set_xticklabels(['Día de Semana', 'Fin de Semana'])\n",
    "axes[2].yaxis.set_major_formatter(PercentFormatter(1.0))\n",
    "\n",
    "\n",
    "plt.tight_layout(rect=[0, 0, 1, 0.95])\n",
    "plt.show()"
   ]
  },
  {
   "cell_type": "markdown",
   "id": "a74d159f",
   "metadata": {},
   "source": [
    "* **Método de Pago:** `paypal` parece tener la proporción de fraude marginalmente más alta, pero todos los métodos presentan un riesgo similar.\n",
    "\n",
    "* **Categoría:** Lo mismo ocurre con la categoría; `shopping` está ligeramente por encima, pero no hay una diferencia drástica.\n",
    "\n",
    "* **Fin de Semana:** El gráfico muestra que la proporción de fraude en \"Día de Semana\" es 0% y en \"Fin de Semana\" es del 100% dentro de los casos de fraude. Esto  significa que aparentemente, todas las transacciones fraudulentas de nuestro dataset ocurrieron durante un fin de semana. La variable `isWeekend` será  poderosa para nuestro modelo."
   ]
  },
  {
   "cell_type": "markdown",
   "id": "0256ad76",
   "metadata": {},
   "source": [
    "### 4. Preprocesamiento (Encoding y Escalado)\n",
    "Transformar nuestro DataFrame limpio en un formato numérico que los algoritmos de machine learning puedan procesar. Esto incluye One-Hot Encoding y el escalado de características."
   ]
  },
  {
   "cell_type": "code",
   "execution_count": null,
   "id": "3a26d588",
   "metadata": {},
   "outputs": [
    {
     "name": "stdout",
     "output_type": "stream",
     "text": [
      "DataFrame antes del encoding:\n",
      "   accountAgeDays  numItems  localTime paymentMethod  paymentMethodAgeDays  \\\n",
      "0              29         1   4.745402        paypal             28.204861   \n",
      "1             725         1   4.742303   storecredit              0.000000   \n",
      "\n",
      "      Category  isWeekend  label  \n",
      "0     shopping        0.0      0  \n",
      "1  electronics        0.0      0  \n",
      "\n",
      "DataFrame después del encoding:\n",
      "   accountAgeDays  numItems  localTime  paymentMethodAgeDays  isWeekend  \\\n",
      "0              29         1   4.745402             28.204861        0.0   \n",
      "1             725         1   4.742303              0.000000        0.0   \n",
      "\n",
      "   label  paymentMethod_paypal  paymentMethod_storecredit  Category_food  \\\n",
      "0      0                   1.0                        0.0            0.0   \n",
      "1      0                   0.0                        1.0            0.0   \n",
      "\n",
      "   Category_shopping  \n",
      "0                1.0  \n",
      "1                0.0  \n",
      "\n",
      "Forma de las características (X): (36188, 9)\n",
      "Forma de la variable objetivo (y): (36188,)\n",
      "\n",
      "Casos de fraude en y_train: 317 (1.09%)\n",
      "Casos de fraude en y_test: 79 (1.09%)\n",
      "\n",
      "Primeras filas de X_train después del escalado:\n"
     ]
    },
    {
     "data": {
      "text/html": [
       "<div>\n",
       "<style scoped>\n",
       "    .dataframe tbody tr th:only-of-type {\n",
       "        vertical-align: middle;\n",
       "    }\n",
       "\n",
       "    .dataframe tbody tr th {\n",
       "        vertical-align: top;\n",
       "    }\n",
       "\n",
       "    .dataframe thead th {\n",
       "        text-align: right;\n",
       "    }\n",
       "</style>\n",
       "<table border=\"1\" class=\"dataframe\">\n",
       "  <thead>\n",
       "    <tr style=\"text-align: right;\">\n",
       "      <th></th>\n",
       "      <th>accountAgeDays</th>\n",
       "      <th>numItems</th>\n",
       "      <th>localTime</th>\n",
       "      <th>paymentMethodAgeDays</th>\n",
       "      <th>isWeekend</th>\n",
       "      <th>paymentMethod_paypal</th>\n",
       "      <th>paymentMethod_storecredit</th>\n",
       "      <th>Category_food</th>\n",
       "      <th>Category_shopping</th>\n",
       "    </tr>\n",
       "  </thead>\n",
       "  <tbody>\n",
       "    <tr>\n",
       "      <th>11632</th>\n",
       "      <td>1.525668</td>\n",
       "      <td>-0.155967</td>\n",
       "      <td>0.753439</td>\n",
       "      <td>-0.088587</td>\n",
       "      <td>1.000000</td>\n",
       "      <td>0.0</td>\n",
       "      <td>0.0</td>\n",
       "      <td>1.0</td>\n",
       "      <td>0.0</td>\n",
       "    </tr>\n",
       "    <tr>\n",
       "      <th>34472</th>\n",
       "      <td>-1.041516</td>\n",
       "      <td>-0.155967</td>\n",
       "      <td>0.386357</td>\n",
       "      <td>-0.452608</td>\n",
       "      <td>0.499693</td>\n",
       "      <td>0.0</td>\n",
       "      <td>0.0</td>\n",
       "      <td>0.0</td>\n",
       "      <td>1.0</td>\n",
       "    </tr>\n",
       "    <tr>\n",
       "      <th>18528</th>\n",
       "      <td>-0.869428</td>\n",
       "      <td>-0.155967</td>\n",
       "      <td>0.339757</td>\n",
       "      <td>0.006783</td>\n",
       "      <td>0.000000</td>\n",
       "      <td>1.0</td>\n",
       "      <td>0.0</td>\n",
       "      <td>0.0</td>\n",
       "      <td>1.0</td>\n",
       "    </tr>\n",
       "    <tr>\n",
       "      <th>3752</th>\n",
       "      <td>-1.022252</td>\n",
       "      <td>-0.155967</td>\n",
       "      <td>0.016041</td>\n",
       "      <td>-0.397975</td>\n",
       "      <td>1.000000</td>\n",
       "      <td>0.0</td>\n",
       "      <td>0.0</td>\n",
       "      <td>0.0</td>\n",
       "      <td>0.0</td>\n",
       "    </tr>\n",
       "    <tr>\n",
       "      <th>2601</th>\n",
       "      <td>1.435772</td>\n",
       "      <td>-0.155967</td>\n",
       "      <td>0.695415</td>\n",
       "      <td>-0.452685</td>\n",
       "      <td>1.000000</td>\n",
       "      <td>0.0</td>\n",
       "      <td>0.0</td>\n",
       "      <td>1.0</td>\n",
       "      <td>0.0</td>\n",
       "    </tr>\n",
       "  </tbody>\n",
       "</table>\n",
       "</div>"
      ],
      "text/plain": [
       "       accountAgeDays  numItems  localTime  paymentMethodAgeDays  isWeekend  \\\n",
       "11632        1.525668 -0.155967   0.753439             -0.088587   1.000000   \n",
       "34472       -1.041516 -0.155967   0.386357             -0.452608   0.499693   \n",
       "18528       -0.869428 -0.155967   0.339757              0.006783   0.000000   \n",
       "3752        -1.022252 -0.155967   0.016041             -0.397975   1.000000   \n",
       "2601         1.435772 -0.155967   0.695415             -0.452685   1.000000   \n",
       "\n",
       "       paymentMethod_paypal  paymentMethod_storecredit  Category_food  \\\n",
       "11632                   0.0                        0.0            1.0   \n",
       "34472                   0.0                        0.0            0.0   \n",
       "18528                   1.0                        0.0            0.0   \n",
       "3752                    0.0                        0.0            0.0   \n",
       "2601                    0.0                        0.0            1.0   \n",
       "\n",
       "       Category_shopping  \n",
       "11632                0.0  \n",
       "34472                1.0  \n",
       "18528                1.0  \n",
       "3752                 0.0  \n",
       "2601                 0.0  "
      ]
     },
     "metadata": {},
     "output_type": "display_data"
    }
   ],
   "source": [
    "# One-Hot Encoding de Variables Categóricas\n",
    "print(\"DataFrame antes del encoding:\")\n",
    "print(df.head(2))\n",
    "\n",
    "df_model = pd.get_dummies(df, columns=['paymentMethod', 'Category'], drop_first=True, dtype=float)\n",
    "\n",
    "print(\"\\nDataFrame después del encoding:\")\n",
    "print(df_model.head(2))\n",
    "\n",
    "\n",
    "# Separación de Características (X) y Variable Objetivo (y)\n",
    "X = df_model.drop('label', axis=1)\n",
    "y = df_model['label']\n",
    "\n",
    "print(f\"\\nForma de las características (X): {X.shape}\")\n",
    "print(f\"Forma de la variable objetivo (y): {y.shape}\")\n",
    "\n",
    "\n",
    "# División en Conjuntos de Entrenamiento y Prueba \n",
    "# Dividimos los datos: 80% para entrenar el modelo y 20% para evaluarlo.\n",
    "# 'stratify=y' es CRUCIAL en problemas de desbalance para asegurar que la proporción de fraudes sea la misma en el conjunto de entrenamiento y en el de prueba.\n",
    "X_train, X_test, y_train, y_test = train_test_split(\n",
    "    X, y,\n",
    "    test_size=0.2,\n",
    "    random_state=42,\n",
    "    stratify=y\n",
    ")\n",
    "\n",
    "print(f\"\\nCasos de fraude en y_train: {y_train.sum()} ({y_train.mean():.2%})\")\n",
    "print(f\"Casos de fraude en y_test: {y_test.sum()} ({y_test.mean():.2%})\")\n",
    "\n",
    "\n",
    "# Escalado de Características\n",
    "# Escalamos los datos DESPUÉS de la división para evitar fuga de información (data leakage).\n",
    "# Identificamos las columnas que necesitan ser escaladas (todas menos las que ya son 0/1).\n",
    "cols_to_scale = ['accountAgeDays', 'paymentMethodAgeDays', 'numItems', 'localTime']\n",
    "\n",
    "scaler = StandardScaler()\n",
    "\n",
    "# Ajustamos el scaler SÓLO con los datos de entrenamiento\n",
    "X_train[cols_to_scale] = scaler.fit_transform(X_train[cols_to_scale])\n",
    "\n",
    "# Y usamos ese mismo ajuste para transformar los datos de prueba\n",
    "X_test[cols_to_scale] = scaler.transform(X_test[cols_to_scale])\n",
    "\n",
    "print(\"\\nPrimeras filas de X_train después del escalado:\")\n",
    "display(X_train.head())"
   ]
  },
  {
   "cell_type": "markdown",
   "id": "58b26fa5",
   "metadata": {},
   "source": [
    "### 5. Construcción y Evaluación de Modelos de Detección\n",
    "Entrenamos diferentes algoritmos de clasificación y evaluamos su rendimiento utilizando métricas adecuadas para problemas de desbalance, para así seleccionar el modelo más eficaz."
   ]
  },
  {
   "cell_type": "markdown",
   "id": "416aa752",
   "metadata": {},
   "source": [
    "Creamos una **función de ayuda para la evaluación**"
   ]
  },
  {
   "cell_type": "code",
   "execution_count": 35,
   "id": "f565b10a",
   "metadata": {},
   "outputs": [],
   "source": [
    "# Función de ayuda para la evaluación\n",
    "def evaluar_modelo(nombre_modelo, modelo, X_test, y_test):\n",
    "    \"\"\"\n",
    "    Toma un modelo entrenado y evalúa su rendimiento en el conjunto de prueba.\n",
    "    Imprime el classification report y grafica la matriz de confusión.\n",
    "    \"\"\"\n",
    "    print(f\"--- Evaluación del Modelo: {nombre_modelo} ---\")\n",
    "    \n",
    "    # Realizar predicciones\n",
    "    y_pred = modelo.predict(X_test)\n",
    "    \n",
    "    # Imprimir reporte de clasificación\n",
    "    print(\"\\nReporte de Clasificación:\")\n",
    "    print(classification_report(y_test, y_pred, target_names=['Legítimo (0)', 'Fraude (1)']))\n",
    "    \n",
    "    # Graficar Matriz de Confusión\n",
    "    print(\"\\nMatriz de Confusión:\")\n",
    "    cm = confusion_matrix(y_test, y_pred)\n",
    "    disp = ConfusionMatrixDisplay(confusion_matrix=cm, display_labels=['Legítimo', 'Fraude'])\n",
    "    disp.plot(cmap='Blues')\n",
    "    plt.show()"
   ]
  },
  {
   "cell_type": "markdown",
   "id": "7e6ac890",
   "metadata": {},
   "source": [
    "#### Modelo 1: Regresión Logística\n",
    "Usamos el parámetro `class_weight='balanced'` para que penalice más los errores en la clase minoritaria (`fraude`).\n"
   ]
  },
  {
   "cell_type": "code",
   "execution_count": null,
   "id": "46c98102",
   "metadata": {},
   "outputs": [
    {
     "name": "stdout",
     "output_type": "stream",
     "text": [
      "--- Evaluación del Modelo: Regresión Logística con class_weight ---\n",
      "\n",
      "Reporte de Clasificación:\n",
      "              precision    recall  f1-score   support\n",
      "\n",
      "Legítimo (0)       1.00      0.85      0.92      7159\n",
      "  Fraude (1)       0.07      1.00      0.13        79\n",
      "\n",
      "    accuracy                           0.85      7238\n",
      "   macro avg       0.53      0.93      0.52      7238\n",
      "weighted avg       0.99      0.85      0.91      7238\n",
      "\n",
      "\n",
      "Matriz de Confusión:\n"
     ]
    },
    {
     "data": {
      "image/png": "[encoded data removed]",
      "text/plain": [
       "<Figure size 640x480 with 2 Axes>"
      ]
     },
     "metadata": {},
     "output_type": "display_data"
    }
   ],
   "source": [
    "# Instanciar y entrenar el modelo\n",
    "lr_model = LogisticRegression(class_weight='balanced', random_state=42, max_iter=1000)\n",
    "lr_model.fit(X_train, y_train)\n",
    "\n",
    "# Evaluar el modelo\n",
    "evaluar_modelo(\"Regresión Logística con class_weight\", lr_model, X_test, y_test)"
   ]
  },
  {
   "cell_type": "markdown",
   "id": "7fd6babc",
   "metadata": {},
   "source": [
    "Este modelo sirve como una línea base para entender la complejidad del problema.\n",
    "\n",
    "**Rendimiento:**\n",
    "\n",
    "`Recall (1.00)`: El modelo fue capaz de identificar correctamente el 100% de las transacciones fraudulentas (79 de 79). \n",
    "\n",
    "`Precision (0.07)`: Este es el punto débil del modelo. Para lograr el recall perfecto, clasificó incorrectamente 1,071 transacciones legítimas como fraude, lo cual es inaceptable en un entorno de producción.\n",
    "\n",
    "**Conclusión:** \n",
    "\n",
    "La Regresión Logística demuestra ser un modelo demasiado simple para este problema. Su incapacidad para manejar la complejidad de los datos sin generar una cantidad masiva de falsos positivos lo descarta como una opción viable."
   ]
  },
  {
   "cell_type": "markdown",
   "id": "7534d6e6",
   "metadata": {},
   "source": [
    "#### Modelo 2: Random Forest (con SMOTE)\n",
    "Un modelo de ensamble mucho más potente. Lo integraremos en un pipeline con SMOTE, que crea ejemplos sintéticos de fraude solo en los datos de entrenamiento para balancearlos."
   ]
  },
  {
   "cell_type": "code",
   "execution_count": null,
   "id": "eeb1dd1c",
   "metadata": {},
   "outputs": [
    {
     "name": "stdout",
     "output_type": "stream",
     "text": [
      "--- Evaluación del Modelo: Random Forest con SMOTE ---\n",
      "\n",
      "Reporte de Clasificación:\n",
      "              precision    recall  f1-score   support\n",
      "\n",
      "Legítimo (0)       1.00      1.00      1.00      7159\n",
      "  Fraude (1)       1.00      1.00      1.00        79\n",
      "\n",
      "    accuracy                           1.00      7238\n",
      "   macro avg       1.00      1.00      1.00      7238\n",
      "weighted avg       1.00      1.00      1.00      7238\n",
      "\n",
      "\n",
      "Matriz de Confusión:\n"
     ]
    },
    {
     "data": {
      "image/png": "[encoded data removed]",
      "text/plain": [
       "<Figure size 640x480 with 2 Axes>"
      ]
     },
     "metadata": {},
     "output_type": "display_data"
    }
   ],
   "source": [
    "# Definir el pipeline con SMOTE y el clasificador\n",
    "rf_pipeline = ImbPipeline([\n",
    "    ('smote', SMOTE(random_state=42)),\n",
    "    ('rf', RandomForestClassifier(random_state=42, n_jobs=-1))\n",
    "])\n",
    "\n",
    "# Entrenar el pipeline completo\n",
    "rf_pipeline.fit(X_train, y_train)\n",
    "\n",
    "# Evaluar el pipeline\n",
    "evaluar_modelo(\"Random Forest con SMOTE\", rf_pipeline, X_test, y_test)"
   ]
  },
  {
   "cell_type": "markdown",
   "id": "eba07fba",
   "metadata": {},
   "source": [
    "Este modelo de ensamble muestra un gran salto en el rendimiento.\n",
    "\n",
    "**Rendimiento:**\n",
    "\n",
    "`Precision, Recall y F1-Score (1.00)`: El modelo alcanzó la perfección en todas las métricas para ambas clases.\n",
    "\n",
    "\n",
    "**Conclusión:**\n",
    "\n",
    "El Random Forest, combinado con la técnica de oversampling SMOTE, fue capaz de aprender perfectamente los patrones que distinguen el fraude. Esto indica que las características del dataset, especialmente la descubierta en el EDA (isWeekend), son extremadamente predictivas y un modelo potente como Random Forest puede capitalizarlas al máximo."
   ]
  },
  {
   "cell_type": "markdown",
   "id": "1cb8c2bd",
   "metadata": {},
   "source": [
    "#### Modelo 3: XGBoost\n",
    "Uno de los algoritmos más potentes que también queremos poner a prueba. Usaremos su parámetro interno `scale_pos_weight` para manejar el desbalance."
   ]
  },
  {
   "cell_type": "code",
   "execution_count": null,
   "id": "087542cd",
   "metadata": {},
   "outputs": [
    {
     "name": "stdout",
     "output_type": "stream",
     "text": [
      "Calculando scale_pos_weight para XGBoost: 90.32\n",
      "--- Evaluación del Modelo: XGBoost con scale_pos_weight ---\n",
      "\n",
      "Reporte de Clasificación:\n",
      "              precision    recall  f1-score   support\n",
      "\n",
      "Legítimo (0)       1.00      1.00      1.00      7159\n",
      "  Fraude (1)       1.00      1.00      1.00        79\n",
      "\n",
      "    accuracy                           1.00      7238\n",
      "   macro avg       1.00      1.00      1.00      7238\n",
      "weighted avg       1.00      1.00      1.00      7238\n",
      "\n",
      "\n",
      "Matriz de Confusión:\n"
     ]
    },
    {
     "data": {
      "image/png": "[encoded data removed]",
      "text/plain": [
       "<Figure size 640x480 with 2 Axes>"
      ]
     },
     "metadata": {},
     "output_type": "display_data"
    }
   ],
   "source": [
    "# Calcular el peso para la clase positiva (fraude) scale_pos_weight = total_negativos / total_positivos\n",
    "scale_pos_weight = y_train.value_counts()[0] / y_train.value_counts()[1]\n",
    "print(f\"Calculando scale_pos_weight para XGBoost: {scale_pos_weight:.2f}\")\n",
    "\n",
    "# Instanciar y entrenar el modelo\n",
    "xgb_model = XGBClassifier(\n",
    "    scale_pos_weight=scale_pos_weight,\n",
    "    random_state=42,\n",
    "    n_jobs=-1,\n",
    "    use_label_encoder=False,\n",
    "    eval_metric='logloss'\n",
    ")\n",
    "xgb_model.fit(X_train, y_train)\n",
    "\n",
    "# Evaluar el modelo\n",
    "evaluar_modelo(\"XGBoost con scale_pos_weight\", xgb_model, X_test, y_test)"
   ]
  },
  {
   "cell_type": "markdown",
   "id": "7373efc1",
   "metadata": {},
   "source": [
    "El modelo XGBoost confirma los hallazgos del Random Forest.\n",
    "\n",
    "**Rendimiento:**\n",
    "\n",
    "`Precision, Recall y F1-Score (1.00)`: Al igual que el Random Forest, XGBoost logró un puntaje perfecto en todas las métricas evaluadas.\n",
    "\n",
    "\n",
    "**Conclusión:** \n",
    "\n",
    "XGBoost demuestra ser igualmente eficaz, aprovechando su propio mecanismo `scale_pos_weight` para manejar el desbalance de clases y aprendiendo a separar perfectamente los datos."
   ]
  },
  {
   "cell_type": "markdown",
   "id": "95179f69",
   "metadata": {},
   "source": [
    "#### Guardado de Modelos Entrenados para Despliegue"
   ]
  },
  {
   "cell_type": "code",
   "execution_count": null,
   "id": "0292d3a3",
   "metadata": {},
   "outputs": [
    {
     "name": "stdout",
     "output_type": "stream",
     "text": [
      "Guardando el modelo Random Forest en: modelos\\random_forest.joblib\n",
      "¡Modelo Random Forest guardado exitosamente!\n",
      "\n",
      "Guardando el modelo XGBoost en: modelos\\xgboost_model.joblib\n"
     ]
    },
    {
     "data": {
      "text/plain": [
       "['modelos\\\\xgboost_model.joblib']"
      ]
     },
     "execution_count": 42,
     "metadata": {},
     "output_type": "execute_result"
    }
   ],
   "source": [
    "# Definir el Directorio de Destino \n",
    "model_dir = 'modelos'\n",
    "\n",
    "# Guardar el Modelo Random Forest \n",
    "rf_filename = 'random_forest.joblib'\n",
    "rf_path = os.path.join(model_dir, rf_filename)\n",
    "\n",
    "print(f\"Guardando el modelo Random Forest en: {rf_path}\")\n",
    "joblib.dump(rf_pipeline, rf_path)\n",
    "\n",
    "\n",
    "# Guardar el Modelo XGBoost\n",
    "xgb_filename = 'xgboost_model.joblib'\n",
    "xgb_path = os.path.join(model_dir, xgb_filename)\n",
    "\n",
    "print(f\"\\nGuardando el modelo XGBoost en: {xgb_path}\")\n",
    "joblib.dump(xgb_model, xgb_path)"
   ]
  },
  {
   "cell_type": "markdown",
   "id": "4e02428c",
   "metadata": {},
   "source": [
    "### 6. Validación Cruzada (K-Fold Cross-Validation)\n",
    "Evaluar la robustez del modelo XGBoost entrenándolo y probándolo en 10 subconjuntos diferentes de los datos para asegurar que su rendimiento perfecto es consistente."
   ]
  },
  {
   "cell_type": "code",
   "execution_count": null,
   "id": "ba27bbc2",
   "metadata": {},
   "outputs": [
    {
     "name": "stdout",
     "output_type": "stream",
     "text": [
      "Iniciando Validación Cruzada Estratificada con 10 pliegues...\n",
      "\n",
      "--- Resultados de la Validación Cruzada ---\n",
      "Scores de F1-Score para cada uno de los 10 pliegues:\n",
      "[1. 1. 1. 1. 1. 1. 1. 1. 1. 1.]\n",
      "\n",
      "Análisis de los Scores:\n",
      "F1-Score Promedio: 1.0000\n",
      "Desviación Estándar del F1-Score: 0.0000\n"
     ]
    }
   ],
   "source": [
    "# Re-instanciar el modelo y los datos\n",
    "# Usamos el DataFrame completo antes de la división train_test_split (X y y) ya que cross_val_score se encargará de las divisiones internas.\n",
    "\n",
    "# Recordamos el peso para la clase positiva\n",
    "scale_pos_weight = y.value_counts()[0] / y.value_counts()[1]\n",
    "\n",
    "# Instanciamos el modelo XGBoost con los mismos parámetros\n",
    "xgb_model_cv = XGBClassifier(\n",
    "    scale_pos_weight=scale_pos_weight,\n",
    "    random_state=42,\n",
    "    n_jobs=-1,\n",
    "    use_label_encoder=False,\n",
    "    eval_metric='logloss'\n",
    ")\n",
    "\n",
    "# Configurar la Validación Cruzada Estratificada\n",
    "# Definimos el número de pliegues (k=5 es un estándar robusto)\n",
    "k_folds = 10\n",
    "skf = StratifiedKFold(n_splits=k_folds, shuffle=True, random_state=42)\n",
    "\n",
    "# Ejecutar la Validación Cruzada y Obtener los Scores \n",
    "# Usaremos 'f1' como métrica de evaluación, ya que es un excelente balance entre precision y recall, ideal para nuestro problema.\n",
    "print(f\"Iniciando Validación Cruzada Estratificada con {k_folds} pliegues...\")\n",
    "# 'cross_val_score' entrena y evalúa el modelo k veces.\n",
    "scores = cross_val_score(\n",
    "    estimator=xgb_model_cv,\n",
    "    X=X,\n",
    "    y=y,\n",
    "    cv=skf,\n",
    "    scoring='f1', # Podríamos usar 'recall' si quisiéramos enfocarnos solo en eso.\n",
    "    n_jobs=-1\n",
    ")\n",
    "\n",
    "# Mostrar Resultados\n",
    "print(\"\\n--- Resultados de la Validación Cruzada ---\")\n",
    "print(f\"Scores de F1-Score para cada uno de los {k_folds} pliegues:\")\n",
    "print(scores)\n",
    "\n",
    "print(\"\\nAnálisis de los Scores:\")\n",
    "print(f\"F1-Score Promedio: {scores.mean():.4f}\")\n",
    "print(f\"Desviación Estándar del F1-Score: {scores.std():.4f}\")"
   ]
  },
  {
   "cell_type": "markdown",
   "id": "6d8fd032",
   "metadata": {},
   "source": [
    "#### Conclusión \n",
    "\n",
    "El proyecto demuestra exitosamente el ciclo completo de la creación de un modelo de detección de fraude. El análisis exploratorio fue clave para descubrir el patrón determinante de que el fraude ocurría exclusivamente en **fines de semana**, un hallazgo que los modelos más avanzados supieron explotar.\n",
    "\n",
    "Mientras que un modelo simple como la Regresión Logística falló al no poder equilibrar la detección de fraudes con la precisión, los modelos de ensamble Random Forest y XGBoost lograron un rendimiento perfecto en el conjunto de prueba.\n",
    "\n",
    "Para este dataset, tanto **Random Forest** como **XGBoost** son opciones **excelentes** para ser seleccionadas como el modelo final a desplegar. En un escenario real, un puntaje perfecto podría sugerir la necesidad de investigar si hay alguna fuga de datos o si la señal predictiva es genuinamente así de fuerte. No obstante, para el propósito de este proyecto, se ha  construido y validado con éxito un detector de fraude de altísimo rendimiento.\n"
   ]
  }
 ],
 "metadata": {
  "kernelspec": {
   "display_name": "Python 3",
   "language": "python",
   "name": "python3"
  },
  "language_info": {
   "codemirror_mode": {
    "name": "ipython",
    "version": 3
   },
   "file_extension": ".py",
   "mimetype": "text/x-python",
   "name": "python",
   "nbconvert_exporter": "python",
   "pygments_lexer": "ipython3",
   "version": "3.13.5"
  }
 },
 "nbformat": 4,
 "nbformat_minor": 5
}
